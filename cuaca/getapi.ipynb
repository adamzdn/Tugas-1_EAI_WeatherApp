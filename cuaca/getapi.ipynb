{
 "cells": [
  {
   "cell_type": "code",
   "execution_count": 1,
   "metadata": {},
   "outputs": [
    {
     "name": "stdout",
     "output_type": "stream",
     "text": [
      "{'coord': {'lon': -89.1028, 'lat': 30.438}, 'weather': [{'id': 800, 'main': 'Clear', 'description': 'clear sky', 'icon': '01n'}], 'base': 'stations', 'main': {'temp': 64.15, 'feels_like': 64.49, 'temp_min': 58.03, 'temp_max': 66.2, 'pressure': 1010, 'humidity': 90}, 'visibility': 10000, 'wind': {'speed': 12.66, 'deg': 130}, 'clouds': {'all': 0}, 'dt': 1709893641, 'sys': {'type': 2, 'id': 2015175, 'country': 'US', 'sunrise': 1709900052, 'sunset': 1709942410}, 'timezone': -21600, 'id': 4429197, 'name': 'Landon', 'cod': 200}\n"
     ]
    }
   ],
   "source": [
    "import requests\n",
    "\n",
    "url = \"https://open-weather13.p.rapidapi.com/city/landon\"\n",
    "\n",
    "headers = {\n",
    "\t\"X-RapidAPI-Key\": \"4a80c78b51msh2461f8321028bd4p1ce5bajsndba52f9c189e\",\n",
    "\t\"X-RapidAPI-Host\": \"open-weather13.p.rapidapi.com\"\n",
    "}\n",
    "\n",
    "response = requests.get(url, headers=headers)\n",
    "\n",
    "print(response.json())"
   ]
  },
  {
   "cell_type": "code",
   "execution_count": 2,
   "metadata": {},
   "outputs": [],
   "source": [
    "weather = response.json()"
   ]
  },
  {
   "cell_type": "code",
   "execution_count": 3,
   "metadata": {},
   "outputs": [
    {
     "data": {
      "text/plain": [
       "{'coord': {'lon': 107.6186, 'lat': -6.9039},\n",
       " 'weather': [{'id': 804,\n",
       "   'main': 'Clouds',\n",
       "   'description': 'overcast clouds',\n",
       "   'icon': '04d'}],\n",
       " 'base': 'stations',\n",
       " 'main': {'temp': 84.78,\n",
       "  'feels_like': 91.83,\n",
       "  'temp_min': 84.78,\n",
       "  'temp_max': 84.81,\n",
       "  'pressure': 1013,\n",
       "  'humidity': 69},\n",
       " 'visibility': 8216,\n",
       " 'wind': {'speed': 1.01, 'deg': 336, 'gust': 1.99},\n",
       " 'clouds': {'all': 90},\n",
       " 'dt': 1709527755,\n",
       " 'sys': {'type': 2,\n",
       "  'id': 2091824,\n",
       "  'country': 'ID',\n",
       "  'sunrise': 1709506496,\n",
       "  'sunset': 1709550472},\n",
       " 'timezone': 25200,\n",
       " 'id': 1650357,\n",
       " 'name': 'Bandung',\n",
       " 'cod': 200}"
      ]
     },
     "execution_count": 3,
     "metadata": {},
     "output_type": "execute_result"
    }
   ],
   "source": [
    "weather"
   ]
  }
 ],
 "metadata": {
  "kernelspec": {
   "display_name": "base",
   "language": "python",
   "name": "python3"
  },
  "language_info": {
   "codemirror_mode": {
    "name": "ipython",
    "version": 3
   },
   "file_extension": ".py",
   "mimetype": "text/x-python",
   "name": "python",
   "nbconvert_exporter": "python",
   "pygments_lexer": "ipython3",
   "version": "3.10.2"
  }
 },
 "nbformat": 4,
 "nbformat_minor": 2
}
